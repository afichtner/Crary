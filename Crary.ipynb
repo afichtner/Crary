{
 "cells": [
  {
   "cell_type": "markdown",
   "metadata": {},
   "source": [
    "# Crary waves\n",
    "\n",
    "Crary waves are a special type of elasto-acoustic waves in solid plates overlying a fluid half space. They have first been observed by Albert Paddock Crary, while he was stationed on ice island T-3, also known as Fletcher's Island, between 1952 and 1955. The first comprehensive theoretical analysis of these waves, which predates their actual observation, was by Frank Press and Maurice Ewing (*Propagation of elastic waves in a floating ice sheet*, Transactions of the American Geophysical Union, 32, 673-678, 1951). In the notebook below, we will largely follow their developments, adding some numerical calculations that were not possible back then."
   ]
  },
  {
   "cell_type": "markdown",
   "metadata": {},
   "source": [
    "# 1. Theoretical background\n",
    "\n",
    "## 1.1. Geometric setup\n",
    "\n",
    "We consider a solid plate overlying a fluid half space. The $z-$axis is vertical and points downwards. The surface is located at $z=-H$, and the solid-fluid interface is at $z=H$. Both the solid and the fluid are homogeneous and isotropic. The solid has P-wave speed $\\alpha_1$ and S-wave speed $\\beta_1$. The P-wave speed of the fluid is $\\alpha_2$. Waves are assumed to be plane waves travelling in $x-$direction, which implies that the displacement field is constant in $y-$direction. (All $y-$derivatives vanish.)\n",
    "\n",
    "## 1.2. Displacement potentials\n",
    "\n",
    "\n",
    "The theory of Crary waves is developed most easily in terms of the displacement potentials $\\phi$ and $\\boldsymbol{\\psi}$ that allow us to express the displacement field $\\mathbf{u}$ as\n",
    "\n",
    "\\begin{equation}\n",
    "\\mathbf{u} = \\nabla\\phi - \\nabla\\times\\boldsymbol{\\psi}\\,.\n",
    "\\end{equation}\n",
    "\n",
    "For the P-SV system of motion, this vector equation can be written in the form of two scalar equations, assuming that $u_y=0$ and that the wavefield does not vary in $y-$direction,\n",
    "\n",
    "\\begin{equation}\n",
    "u_x = \\partial_x \\phi + \\partial_z \\psi\\,,\\\\\n",
    "u_z = \\partial_z \\phi - \\partial_x \\psi\\,,\n",
    "\\end{equation}\n",
    "\n",
    "with $\\psi=\\psi_y$. \n",
    "\n",
    "## 1.3. General solution\n",
    "\n",
    "Inserting the potential representation of the displacement field into the wave equation for an isotropic medium, and keeping in mind that the rotational potential $\\psi$ vanishes in the fluid, we find the following general solutions,\n",
    "\n",
    "\\begin{equation}\n",
    "\\phi_1 = [A e^{-\\xi z} + B e^{\\xi z}]\\, e^{i(kx - \\omega t)}\\,,\\quad \\xi^2 := k^2 [1-c^2/\\alpha_1^2]\\,,\\\\\n",
    "\\psi_1 = [C e^{-\\eta z} + D e^{\\eta z}]\\, e^{i(kx - \\omega t)}\\,,\\quad \\eta^2 := k^2 [1-c^2/\\beta_1^2]\\,,\\\\\n",
    "\\phi_2 = [E e^{-\\zeta z}]\\, e^{i(kx - \\omega t)}\\,,\\quad \\zeta^2 := k^2 [1-c^2/\\alpha_2^2]\\,,\\\\\n",
    "\\end{equation}\n",
    "\n",
    "where $c$ is the phase velocity, $\\omega$ the circular frequency, and $k$ the wave number. The subscript $1$ denotes the solid, and $2$ the fluid. The constants $A, B, C, D, E$ must be determined from the boundary conditions.\n",
    "\n",
    "## 1.4. Boundary conditions\n",
    "\n",
    "The potentials must satisfy several boundary conditions,\n",
    "\n",
    "\\begin{equation}\n",
    "(\\sigma_{zz})_1|_{z=-H} = 0\\,\\quad\\text{vanishing vertical stress at the surface}\\,,\\\\\n",
    "(\\sigma_{xz})_1|_{z=-H} = 0\\,\\quad\\text{vanishing horizontal stress at the surface}\\,,\\\\\n",
    "(\\sigma_{zz})_1|_{z=H} = (\\sigma_{zz})_2|_{z=H}\\,\\quad\\text{continuity of vertical stress at the interface}\\,,\\\\\n",
    "(\\sigma_{xz})_1|_{z=H} = (\\sigma_{xz})_2|_{z=H}\\,\\quad\\text{continuity of horizontal stress at the interface}\\,,\\\\\n",
    "(u_z)_1|_{z=H} = (u_z)_2|_{z=H}\\,\\quad\\text{continuity of vertical displacement at the interface}\\,.\n",
    "\\end{equation}\n",
    "\n",
    "Expressing the boundary conditions in terms of the above solutions for the potentials, leads to a homogeneous system of equations,\n",
    "\n",
    "\\begin{equation}\n",
    "\\mathbf{M}\\mathbf{v} = \n",
    "\\begin{pmatrix}\n",
    "f_1(-\\xi,-H) & f_1(\\xi,-H) & g_1(-\\eta,-H) & g_1(\\eta,-H) & 0 \\\\\n",
    "-g_1(-\\xi,-H) & -g_1(\\xi,-H) & h_1(-\\eta,-H) & h_1(\\eta,-H) & 0 \\\\\n",
    "f_1(-\\xi,H) & f_1(\\xi,H) & g_1(-\\eta,H) & g_1(\\eta,H) & -f_2(-\\zeta,H) \\\\\n",
    "-g_1(-\\xi,H) & -g_1(\\xi,H) & h_1(-\\eta,H) & h_1(\\eta,H) & 0 \\\\\n",
    "-\\xi e^{-\\xi H} & \\xi e^{\\xi H} & -ik e^{-\\eta H} & -ik e^{\\eta H} & \\zeta e^{-\\zeta H}\n",
    "\\end{pmatrix}\n",
    "\\begin{pmatrix}\n",
    "A \\\\ B \\\\ C \\\\ D \\\\ E\n",
    "\\end{pmatrix}\\,.\n",
    "\\end{equation}\n",
    "\n",
    "The functions $f$, $g$ and $h$ are defined as\n",
    "\n",
    "\\begin{equation}\n",
    "f(q)=[\\lambda q^2 - \\lambda k^2 + 2\\mu q^2]\\,e^{qz}\\,,\\\\\n",
    "g(q)=-2ikq\\mu\\,e^{qz}\\,,\\\\\n",
    "h(q)=[\\mu q^2 + \\mu k^2]\\,e^{qz}\\,.\n",
    "\\end{equation}\n",
    "\n",
    "## 1.5. Solutions\n",
    "\n",
    "The system has non-trivial solutions for the amplitude coefficients $A, B, C, D, E$ only when the determinant of the system matrix vanishes, that is, when $k$ (or $c$) is chosen such that $\\det{\\mathbf{M}}=0$ for a fixed circular frequency $\\omega$.\n",
    "\n",
    "**Trivial and uninteresting solutions**: This condition is satisfied in the special cases $c=\\alpha_1$ and $c=\\beta_1$ for all choices of $\\omega$. One can see this rather easily because these cases lead to $\\xi=0$ and $\\eta=0$, respectively, which then produces two identical columns in $\\mathbf{M}$. The resulting displacement fields, however, are not interesting. In fact, we find $C=-D$ for $c=\\beta_1$, which implies that the amplitude of the displacement field vanishes. Similarly, for $c=\\alpha_1$ we find $A=-B$, and the resulting displacement field vanishes as well.\n",
    "\n",
    "**Stoneley waves**: These are waves that are confined to the fluid-solid interface, with very small displacement at the surface. Stoneley waves have a phase velocity of approximately $0.87 \\alpha_2$.\n",
    "\n",
    "**Flexural waves**: At low frequencies, the ice sheet deforms in the form of flexural waves with a phase velocity of approximately $2\\beta_1 \\sqrt{1-\\beta_1^2/\\alpha_1^2}$.\n",
    "\n",
    "**Rayleigh waves**: At high frequencies, the ice sheet effectively behaves like an infinite half space. The consequence are single-mode, non-dispersive Rayleigh waves with a phase velocity of around $0.92\\beta_1$.\n",
    "\n",
    "**Crary resonance**: Critical reflection of SV waves for SV-P conversion at the fluid-solid interface leads to resonance within a narrow frequency band around $\\beta_1/[2H\\sqrt{1-\\beta_1^2/\\alpha_1^2}]$ Hz. The phase velocity of Crary resonance waves is the P-wave speed of the ice layer, $\\alpha_1$. Crary resonance was first observed and correctly interpreted by Crary (1954)."
   ]
  },
  {
   "cell_type": "markdown",
   "metadata": {},
   "source": [
    "# 2. Preparations"
   ]
  },
  {
   "cell_type": "markdown",
   "metadata": {},
   "source": [
    "## 2.1. Import of packages and embellishment of figures"
   ]
  },
  {
   "cell_type": "code",
   "execution_count": null,
   "metadata": {},
   "outputs": [],
   "source": [
    "import numpy as np\n",
    "import matplotlib.pyplot as plt\n",
    "\n",
    "plt.rcParams[\"font.family\"] = \"Times\"\n",
    "plt.rcParams.update({'font.size': 50})\n",
    "plt.rcParams['xtick.major.pad']='12'\n",
    "plt.rcParams['ytick.major.pad']='12'"
   ]
  },
  {
   "cell_type": "markdown",
   "metadata": {},
   "source": [
    "## 2.2. Input"
   ]
  },
  {
   "cell_type": "markdown",
   "metadata": {},
   "source": [
    "### 2.2.1. Medium properties\n",
    "\n",
    "For the medium properties, we use typical values for ice and water at 0$^\\circ$C. The details may of course vary."
   ]
  },
  {
   "cell_type": "code",
   "execution_count": null,
   "metadata": {},
   "outputs": [],
   "source": [
    "# Material parameters. ==================\n",
    "\n",
    "# Velocities [m/s].\n",
    "alpha_1=3500.0\n",
    "beta_1=1800.0\n",
    "alpha_2=1400.0\n",
    "# Density [kg/m^3].\n",
    "rho_1=900.0\n",
    "rho_2=1000.0\n",
    "\n",
    "# Half-depth of the solid layer [m]. ===\n",
    "H=150.0"
   ]
  },
  {
   "cell_type": "code",
   "execution_count": null,
   "metadata": {},
   "outputs": [],
   "source": [
    "f_cr=beta_1/(2.0*H*np.sqrt(1.0-beta_1**2/alpha_1**2))\n",
    "print('Crary resonance around %f Hz' % f_cr)"
   ]
  },
  {
   "cell_type": "code",
   "execution_count": null,
   "metadata": {},
   "outputs": [],
   "source": [
    "# Compute Lamé parameters from the velocities defined above.\n",
    "mu_1=(rho_1*beta_1**2)\n",
    "lambda_1=(rho_1*alpha_1**2-2.0*mu_1)\n",
    "lambda_2=(rho_2*alpha_2**2)"
   ]
  },
  {
   "cell_type": "markdown",
   "metadata": {},
   "source": [
    "### 2.2.2. Frequency and velocity ranges\n",
    "\n",
    "To compute dispersion curves, we need search ranges for frequencies and phase velocities."
   ]
  },
  {
   "cell_type": "code",
   "execution_count": null,
   "metadata": {},
   "outputs": [],
   "source": [
    "# Maximum number of modes per frequency.\n",
    "n_max=10\n",
    "# Minimum and maximum phase velocities [m/s].\n",
    "c_min=300.0\n",
    "c_max=4200.0\n",
    "# Velocity increment for the initial mode search [m/s]. This controls how accurately we can determine zeros of the determinant.\n",
    "dc=1.0\n",
    "# Minimum and maximum frequency [Hz].\n",
    "freq_min=0.1\n",
    "freq_max=10.0\n",
    "# Frequency increment [Hz].\n",
    "dfreq=0.1"
   ]
  },
  {
   "cell_type": "markdown",
   "metadata": {},
   "source": [
    "## 2.3. Define functions for the system matrix and the matrix itself\n",
    "\n",
    "For convenience, we define the functions $f$, $g$ and $h$ as Python functions. Also, the matrix $\\mathbf{M}$ is implemented as a function."
   ]
  },
  {
   "cell_type": "markdown",
   "metadata": {},
   "source": [
    "First the functions $f$, $g$ and $h$."
   ]
  },
  {
   "cell_type": "code",
   "execution_count": null,
   "metadata": {},
   "outputs": [],
   "source": [
    "# Functions f, g and h.\n",
    "\n",
    "def f(lam,mu,k,x,z):\n",
    "    return (lam*x**2-lam*k**2+2.0*mu*x**2)*np.exp(x*z)\n",
    "\n",
    "def g(mu,k,x,z):\n",
    "    return -2.0j*k*x*mu*np.exp(x*z)\n",
    "\n",
    "def h(mu,k,x,z):\n",
    "    return (mu*x**2+mu*k**2)*np.exp(x*z)"
   ]
  },
  {
   "cell_type": "markdown",
   "metadata": {},
   "source": [
    "A good definition of the matrix $\\mathbf{M}$ requires some numerical tricks. In fact, we see that the first four rows scale as $\\mu k^2$, whereas the fifth row scales as $k$. As a consequence, the numerical values in the first four rows can be orders of magnitude larger than the numerical values of the fifth row. This leads to a very large condition number and a strong influence of floating-point errors.\n",
    "\n",
    "To circumvent this issue, we multiply the fifth row by $ik\\mu_1$. This is possible because the system of equations is anyway homogeneous. After this scaling, the numerical values of all matrix entries are very large, which can lead to a numerical overflow in the calculation of the determinant. Since our interest is, however, not in the actual values of the determinant but only in its zeroes, we do not return $\\mathbf{M}$ itself, but its scaled version $\\mathbf{M}/(\\mu_1 k**2)$."
   ]
  },
  {
   "cell_type": "code",
   "execution_count": null,
   "metadata": {},
   "outputs": [],
   "source": [
    "# The matrix M.\n",
    "\n",
    "def M(omega,c_re,c_im):\n",
    "    \n",
    "    # Compute complex-valued wave number.\n",
    "    c=c_re+1.0j*c_im\n",
    "    k=omega/c\n",
    "        \n",
    "    # Compute xi, eta and zeta.\n",
    "    xi=k*np.sqrt(1.0-c**2.0/alpha_1**2.0)\n",
    "    eta=k*np.sqrt(1.0-c**2.0/beta_1**2.0)\n",
    "    zeta=k*np.sqrt(1.0-c**2.0/alpha_2**2.0)\n",
    "        \n",
    "    # Compute the matrix.\n",
    "\n",
    "    M=np.array([[f(lambda_1,mu_1,k,-xi,-H),f(lambda_1,mu_1,k,xi,-H),g(mu_1,k,-eta,-H),g(mu_1,k,eta,-H),0.0],\n",
    "                [-g(mu_1,k,-xi,-H),-g(mu_1,k,xi,-H),h(mu_1,k,-eta,-H),h(mu_1,k,eta,-H),0],\n",
    "                [f(lambda_1,mu_1,k,-xi,H),f(lambda_1,mu_1,k,xi,H),g(mu_1,k,-eta,H),g(mu_1,k,eta,H),-f(lambda_2,0.0,k,-zeta,H)],\n",
    "                [-g(mu_1,k,-xi,H),-g(mu_1,k,xi,H),h(mu_1,k,-eta,H),h(mu_1,k,eta,H),0],\n",
    "                [-1.0j*k*mu_1*xi*np.exp(-xi*H),1.0j*k*mu_1*xi*np.exp(xi*H),(k**2.0)*mu_1*np.exp(-eta*H),(k**2.0)*mu_1*np.exp(eta*H),1.0j*k*mu_1*zeta*np.exp(-zeta*H)]])\n",
    "    \n",
    "    # Return the determinant.\n",
    "    \n",
    "    return M/(mu_1*(k**2))"
   ]
  },
  {
   "cell_type": "markdown",
   "metadata": {},
   "source": [
    "# 3. Phase and group velocity dispersion curves"
   ]
  },
  {
   "cell_type": "markdown",
   "metadata": {},
   "source": [
    "## 3.1. Approximate zero finding for phase velocities\n",
    "\n",
    "Since $\\det\\mathbf{M}$ is complex-valued, the search for combinations of horizontal wave numbers $k$ (or phase velocities $c$) and circular frequencies $\\omega$ that satisfy $\\det\\mathbf{M}=0$ is a non-trivial task. Below, we adopt a simplified approach. First, we only try to find combinations of $c$ and $\\omega$ where $|\\det\\mathbf{M}|$ attains a minimum. Second, we limit the search to real-valued phase velocities. This is justified by the fact that the imaginary part of the phase velocities, which represents attenuation, is typically very small. Owing to these approximations, one should check carefully of the proposed solutions indeed satisfy the boundary conditions listed above."
   ]
  },
  {
   "cell_type": "markdown",
   "metadata": {},
   "source": [
    "Initialise frequency, phase velocity and wave number arrays."
   ]
  },
  {
   "cell_type": "code",
   "execution_count": null,
   "metadata": {},
   "outputs": [],
   "source": [
    "freq=np.arange(freq_min,freq_max+dfreq,dfreq)\n",
    "c=np.zeros((len(freq),n_max))\n",
    "k=np.zeros((len(freq),n_max))"
   ]
  },
  {
   "cell_type": "markdown",
   "metadata": {},
   "source": [
    "March through all frequencies and find phase velocities that produce approximate zeroes of the determinant."
   ]
  },
  {
   "cell_type": "code",
   "execution_count": null,
   "metadata": {},
   "outputs": [],
   "source": [
    "# March through frequencies.\n",
    "for w in range(len(freq)):\n",
    "    \n",
    "    # Initialisation. =============================================================\n",
    "    \n",
    "    # Circular frequency.\n",
    "    omega=2.0*np.pi*freq[w]\n",
    "    \n",
    "    # Array of real-valued candidate phase velocities.\n",
    "    c_re=np.arange(c_min,c_max,dc)\n",
    "    # Array of determinant values as function of c_re.\n",
    "    det=np.zeros(len(c_re),dtype='complex64')\n",
    "    detabs=np.zeros(len(c_re))\n",
    "    \n",
    "    # Initial candidate phase velocities by search along the real line. ===========\n",
    "\n",
    "    # Compute determinant for each value of c_re.\n",
    "    for i in range(len(c_re)): \n",
    "        det[i]=np.linalg.det(M(omega,c_re[i],0.0))\n",
    "        detabs[i]=np.abs(det[i])\n",
    "        \n",
    "    # Find candidate phase velocities.\n",
    "    det_candidate=np.zeros(n_max)\n",
    "    count=0\n",
    "\n",
    "    for i in np.arange(1,len(c_re)-1):\n",
    "        # Check for a minimum in the absolute value of the determinant.\n",
    "        #print(detabs[i])\n",
    "        if (detabs[i]<detabs[i-1] and detabs[i]<detabs[i+1]) and (np.real(det[i-1])*np.real(det[i+1])<0.0 or np.imag(det[i-1])*np.imag(det[i+1])<0.0):\n",
    "            # Check if we are too close to the tirivial solutions.\n",
    "            if np.abs(c_re[i]-beta_1)>2.0*dc and np.abs(c_re[i]-alpha_1)>2.0*dc:\n",
    "                c[w,count]=c_re[i]\n",
    "                det_candidate[count]=detabs[i]\n",
    "                count+=1\n",
    "                \n",
    "    # Refine by grid search over smaller intervals. ================================\n",
    "    \n",
    "    # Loop over the previous candidates.\n",
    "    for n in range(count):\n",
    "    \n",
    "        # Define a new search range.\n",
    "        c_re=np.arange(np.real(c[w,n])-1.5*dc,np.real(c[w,n])+1.5*dc,dc/100.0)\n",
    "    \n",
    "        # March through the candidate points.\n",
    "        for i in range(len(c_re)):    \n",
    "                detabs_new=np.abs(np.linalg.det(M(omega,c_re[i],0.0)))\n",
    "                if detabs_new<det_candidate[n]:\n",
    "                    det_candidate[n]=detabs_new\n",
    "                    c[w,n]=c_re[i]\n",
    "                    k[w,n]=omega/c_re[i]"
   ]
  },
  {
   "cell_type": "markdown",
   "metadata": {},
   "source": [
    "Plot phase velocity dispersion curve."
   ]
  },
  {
   "cell_type": "code",
   "execution_count": null,
   "metadata": {
    "scrolled": false
   },
   "outputs": [],
   "source": [
    "# Mode annotation (frequency index, mode index).\n",
    "annotate=False\n",
    "\n",
    "# Plot dispersion curve.\n",
    "plt.figure(figsize=(30,10))\n",
    "for i in range(len(freq)):\n",
    "    for j in range(n_max):\n",
    "        if c[i,j]>0.0: \n",
    "            plt.plot(freq[i],c[i,j],'bo',MarkerSize=10)\n",
    "            if annotate: plt.text(freq[i]+0.1*dfreq,c[i,j],str(i)+','+str(j),FontSize=20)\n",
    "            \n",
    "# Mark wave types.\n",
    "plt.plot([freq[0],freq[-1]],[0.92*beta_1,0.92*beta_1],'--k',alpha=0.5,LineWidth=2)\n",
    "plt.text(freq[0],0.92*beta_1+100.0,'Rayleigh',FontSize=30)\n",
    "\n",
    "plt.plot([freq[0],freq[-1]],[0.87*alpha_2,0.87*alpha_2],'--k',alpha=0.5,LineWidth=2)\n",
    "plt.text(freq[0],0.87*alpha_2+100.0,'Stoneley',FontSize=30)\n",
    "\n",
    "plt.plot([freq[0],freq[-1]],[alpha_1,alpha_1],'--k',alpha=0.5,LineWidth=2)\n",
    "plt.text(freq[0],alpha_1+100.0,'Crary resonance',FontSize=30)\n",
    "\n",
    "c_flex=2.0*beta_1*np.sqrt(1.0-beta_1**2/alpha_1**2)\n",
    "plt.plot([freq[0],freq[-1]],[c_flex,c_flex],'--k',alpha=0.5,LineWidth=2)\n",
    "plt.text(freq[0],c_flex+100.0,'flexural waves',FontSize=30)\n",
    "\n",
    "            \n",
    "# Labels.\n",
    "plt.grid()\n",
    "plt.xlabel('frequency [Hz]',labelpad=20)\n",
    "plt.ylabel('phase velocity [m/s]',labelpad=20)\n",
    "plt.title('phase velocity',pad=30)\n",
    "\n",
    "plt.show()"
   ]
  },
  {
   "cell_type": "markdown",
   "metadata": {},
   "source": [
    "## 3.2. Group velocity dispersion curves.\n",
    "\n",
    "To compute group velocity dispersion curves, we repeat the calculation above. The only difference is that we consider frequencies $\\omega+\\delta\\omega$, which leads to wave numbers $k+\\delta k$. Then we approximate the phase velocities as $c_g \\approx \\delta\\omega/\\delta k$. This finite-difference approach is rather crude, and it suffers to some extent from floating-point inaccuracies. Regardless of this issue, one needs to ensure that the phase velocities have been found with sufficient accuracy. In case the group velocity dispersion looks strange, the value of dc should probably be decreased."
   ]
  },
  {
   "cell_type": "code",
   "execution_count": null,
   "metadata": {},
   "outputs": [],
   "source": [
    "# Perturbed wave number vector and phase velocity.\n",
    "k_new=np.zeros((len(freq),n_max))\n",
    "c_new=np.zeros((len(freq),n_max))\n",
    "# Circular frequency increment.\n",
    "domega=2.0*np.pi*freq/100.0\n",
    "\n",
    "# March through frequencies.\n",
    "for w in range(len(freq)):\n",
    "    \n",
    "    # Initialisation. =============================================================\n",
    "    \n",
    "    # Circular frequency.\n",
    "    omega=2.0*np.pi*freq[w]+domega[w]\n",
    "    \n",
    "    # Array of real-valued candidate phase velocities.\n",
    "    c_re=np.arange(c_min,c_max,dc)\n",
    "    # Array of determinant values as function of c_re.\n",
    "    det=np.zeros(len(c_re),dtype='complex64')\n",
    "    detabs=np.zeros(len(c_re))\n",
    "    \n",
    "    # Initial candidate phase velocities by search along the real line. ===========\n",
    "\n",
    "    # Compute determinant for each value of c_re.\n",
    "    for i in range(len(c_re)): \n",
    "        det[i]=np.linalg.det(M(omega,c_re[i],0.0))\n",
    "        detabs[i]=np.abs(det[i])\n",
    "        \n",
    "    # Find candidate phase velocities.\n",
    "    det_candidate=np.zeros(n_max)\n",
    "    count=0\n",
    "\n",
    "    for i in np.arange(1,len(c_re)-1):\n",
    "        # Check for a minimum in the absolute value of the determinant.\n",
    "        if (detabs[i]<detabs[i-1] and detabs[i]<detabs[i+1]) and (np.real(det[i-1])*np.real(det[i+1])<0.0 or np.imag(det[i-1])*np.imag(det[i+1])<0.0):\n",
    "            # Check if we are too close to the tirivial solutions.\n",
    "            if np.abs(c_re[i]-beta_1)>2.0*dc and np.abs(c_re[i]-alpha_1)>2.0*dc:\n",
    "                c_new[w,count]=c_re[i]\n",
    "                det_candidate[count]=detabs[i]\n",
    "                count+=1\n",
    "                \n",
    "    # Refine by grid search over smaller intervals. ================================\n",
    "    \n",
    "    # Loop over the previous candidates.\n",
    "    for n in range(count):\n",
    "    \n",
    "        # Define a new search range.\n",
    "        c_re=np.arange(np.real(c_new[w,n])-1.5*dc,np.real(c_new[w,n])+1.5*dc,dc/100.0)\n",
    "    \n",
    "        # March through the candidate points.\n",
    "        for i in range(len(c_re)):    \n",
    "                detabs_new=np.abs(np.linalg.det(M(omega,c_re[i],0.0)))\n",
    "                if detabs_new<det_candidate[n]:\n",
    "                    det_candidate[n]=detabs_new\n",
    "                    k_new[w,n]=omega/c_re[i]"
   ]
  },
  {
   "cell_type": "code",
   "execution_count": null,
   "metadata": {},
   "outputs": [],
   "source": [
    "# Compute group velocity.\n",
    "\n",
    "c_g=np.zeros((len(freq),n_max))\n",
    "\n",
    "for w in range(len(freq)):\n",
    "    for n in range(n_max):\n",
    "        if np.abs(k_new[w,n]-k[w,n])>0.0: c_g[w,n]=domega[w]/(k_new[w,n]-k[w,n])"
   ]
  },
  {
   "cell_type": "code",
   "execution_count": null,
   "metadata": {},
   "outputs": [],
   "source": [
    "# Mode annotation (frequency index, mode index).\n",
    "annotate=False\n",
    "\n",
    "# Plot dispersion curve.\n",
    "plt.figure(figsize=(30,10))\n",
    "for i in range(len(freq)):\n",
    "    for j in range(n_max):\n",
    "        if c_g[i,j]>100.0: \n",
    "            plt.plot(freq[i],c_g[i,j],'bo',MarkerSize=10)\n",
    "            if annotate: plt.text(freq[i]+0.1*dfreq,c_g[i,j],str(i)+','+str(j),FontSize=20)\n",
    "                        \n",
    "# Labels.\n",
    "plt.grid()\n",
    "plt.xlabel('frequency [Hz]',labelpad=20)\n",
    "plt.ylabel('group velocity [m/s]',labelpad=20)\n",
    "plt.title('group velocity',pad=30)\n",
    "plt.show()"
   ]
  },
  {
   "cell_type": "markdown",
   "metadata": {},
   "source": [
    "# 4. Displacement and stress fields\n",
    "\n",
    "Based on the identified modes, we can compute the actual displacement field. For this, we first select the frequency index and the mode index that we are interested in."
   ]
  },
  {
   "cell_type": "code",
   "execution_count": null,
   "metadata": {},
   "outputs": [],
   "source": [
    "# Frequency index.\n",
    "idx=40\n",
    "# Mode index (0, 1, ...).\n",
    "n=0\n",
    "\n",
    "print('frequency: %f Hz, phase velocity: %f m/s' % (freq[idx],c[idx,n]))"
   ]
  },
  {
   "cell_type": "markdown",
   "metadata": {},
   "source": [
    "To compute the displacement field, we need to determine actual values for the potential field coefficients $A$, $B$, $C$, $D$ and $E$. By construction, the matrix $\\mathbf{M}$ is (nearly) singular. Hence, the equations are linearly dependent. This means that we can (1) fix one of the coefficients, and then (2) choose four out of five equations to compute the remaining coefficients.\n",
    "\n",
    "In the code below, we fix $A=1$ and then select the last four equations. This means that the last four boundary conditions are satisfied by design, and the first should be satisfied as well. However, due to numerical errors, e.g., related to floating-point accuracy and imperfect zero finding, the first boundary condition is satisfied only approximately."
   ]
  },
  {
   "cell_type": "code",
   "execution_count": null,
   "metadata": {},
   "outputs": [],
   "source": [
    "# Compute the matrix.\n",
    "MM=M(2.0*np.pi*freq[idx],c[idx,n],0.0)\n",
    "\n",
    "# Build the linear system.\n",
    "L=np.array([[MM[1,1],MM[1,2],MM[1,3],MM[1,4]],\n",
    "            [MM[2,1],MM[2,2],MM[2,3],MM[2,4]],\n",
    "            [MM[3,1],MM[3,2],MM[3,3],MM[3,4]],\n",
    "            [MM[4,1],MM[4,2],MM[4,3],MM[4,4]]])\n",
    "            \n",
    "print('|det M| = %f\\n' % np.abs(np.linalg.det(MM)))\n",
    "    \n",
    "# Linear system right-hand side.\n",
    "v=-MM[1:5,0]\n",
    "\n",
    "# Solve the linear system.\n",
    "A=1.0\n",
    "[B,C,D,E]=np.dot(np.linalg.inv(L),v)\n",
    "print('A=%f+%fi,\\nB=%f+%fi,\\nC=%f+%fi,\\nD=%f+%fi,\\nE=%f+%fi' % (np.real(A),np.imag(A),np.real(B),np.imag(B),np.real(C),np.imag(C),np.real(D),np.imag(D),np.real(E),np.imag(E)))"
   ]
  },
  {
   "cell_type": "markdown",
   "metadata": {},
   "source": [
    "In principle, all five boundary conditions should now be satisfied. To be on the safe side, we may still check."
   ]
  },
  {
   "cell_type": "code",
   "execution_count": null,
   "metadata": {},
   "outputs": [],
   "source": [
    "# Check if the linear system has indeed been solved approximately.\n",
    "i=0\n",
    "A*MM[i,0]+B*MM[i,1]+C*MM[i,2]+D*MM[i,3]+E*MM[i,4]"
   ]
  },
  {
   "cell_type": "markdown",
   "metadata": {},
   "source": [
    "In the next step, we compute the functions $\\xi$, $\\eta$ and $\\zeta$, which ..."
   ]
  },
  {
   "cell_type": "code",
   "execution_count": null,
   "metadata": {},
   "outputs": [],
   "source": [
    "# Compute the wave number.\n",
    "k=2.0*np.pi*freq[idx]/c[idx,n]\n",
    "        \n",
    "# Compute xi, eta and zeta.\n",
    "xi=k*np.sqrt(1.0-(c[idx,n]+0.0j)**2.0/alpha_1**2.0)\n",
    "eta=k*np.sqrt(1.0-(c[idx,n]+0.0j)**2.0/beta_1**2.0)\n",
    "zeta=k*np.sqrt(1.0-(c[idx,n]+0.0j)**2.0/alpha_2**2.0)"
   ]
  },
  {
   "cell_type": "markdown",
   "metadata": {},
   "source": [
    "... then enter the calculation of the horizontal and vertical displacement field components."
   ]
  },
  {
   "cell_type": "code",
   "execution_count": null,
   "metadata": {},
   "outputs": [],
   "source": [
    "# Make vertical coordinates [m].\n",
    "z1=np.arange(-H,H,1.0)\n",
    "z2=np.arange(H,4*H,1.0)\n",
    "\n",
    "# Build displacement vectors.\n",
    "uz1=xi*(B*np.exp(xi*z1)-A*np.exp(-xi*z1))-1.0j*k*(C*np.exp(-eta*z1)+D*np.exp(eta*z1))\n",
    "uz2=-zeta*E*np.exp(-zeta*z2)\n",
    "ux1=1.0j*k*(A*np.exp(-xi*z1)+B*np.exp(xi*z1))+eta*(D*np.exp(eta*z1)-C*np.exp(-eta*z1))\n",
    "ux2=1.0j*k*E*np.exp(-zeta*z2)"
   ]
  },
  {
   "cell_type": "markdown",
   "metadata": {},
   "source": [
    "The displacement field is complex-valued, and both the real and the imaginary parts are solutions. Below, we display them together (real part in black, imaginary part in blue). "
   ]
  },
  {
   "cell_type": "code",
   "execution_count": null,
   "metadata": {},
   "outputs": [],
   "source": [
    "scale=np.max((np.max(np.abs(uz1)),np.max(np.abs(uz2)),np.max(np.abs(ux2)),np.max(np.abs(ux1))))\n",
    "\n",
    "plt.subplots(1,2,sharey='row',figsize=(20,20))\n",
    "\n",
    "plt.subplot(1,2,1)\n",
    "plt.plot(np.real(ux1),H+z1,'k',LineWidth=4)\n",
    "plt.plot(np.real(ux2),H+z2,'k',LineWidth=4)\n",
    "plt.plot(np.imag(ux1),H+z1,'b',LineWidth=4)\n",
    "plt.plot(np.imag(ux2),H+z2,'b',LineWidth=4)\n",
    "plt.plot([-scale,scale],[2.0*H,2.0*H],'--k')\n",
    "plt.text(-scale,2.0*H+15.0,'fluid',Fontsize=20)\n",
    "plt.text(-scale,2.0*H-7.0,'solid',Fontsize=20)\n",
    "plt.xlim([-1.1*scale,1.1*scale])\n",
    "plt.ylim([np.max(H+z2),np.min(H+z1)])\n",
    "plt.title('x amplitude',pad=30)\n",
    "plt.ylabel('depth below surface [m]',labelpad=15)\n",
    "\n",
    "plt.subplot(1,2,2)\n",
    "plt.plot(np.real(uz1),H+z1,'k',LineWidth=4)\n",
    "plt.plot(np.real(uz2),H+z2,'k',LineWidth=4)\n",
    "plt.plot(np.imag(uz1),H+z1,'b',LineWidth=4)\n",
    "plt.plot(np.imag(uz2),H+z2,'b',LineWidth=4)\n",
    "plt.plot([-scale,scale],[2.0*H,2.0*H],'--k')\n",
    "plt.text(-scale,2.0*H+15.0,'fluid',Fontsize=20)\n",
    "plt.text(-scale,2.0*H-7.0,'solid',Fontsize=20)\n",
    "plt.xlim([-1.1*scale,1.1*scale])\n",
    "plt.ylim([np.max(H+z2),np.min(H+z1)])\n",
    "plt.title('z amplitude',pad=30)\n",
    "plt.yticks([])\n",
    "\n",
    "plt.show()"
   ]
  }
 ],
 "metadata": {
  "kernelspec": {
   "display_name": "Python 3",
   "language": "python",
   "name": "python3"
  },
  "language_info": {
   "codemirror_mode": {
    "name": "ipython",
    "version": 3
   },
   "file_extension": ".py",
   "mimetype": "text/x-python",
   "name": "python",
   "nbconvert_exporter": "python",
   "pygments_lexer": "ipython3",
   "version": "3.8.3"
  }
 },
 "nbformat": 4,
 "nbformat_minor": 4
}
